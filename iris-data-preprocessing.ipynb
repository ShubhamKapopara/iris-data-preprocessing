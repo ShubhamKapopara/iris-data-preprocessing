{
 "cells": [
  {
   "cell_type": "code",
   "execution_count": 49,
   "id": "5393d97e-49f4-4c83-8b2a-615ffe4e23ad",
   "metadata": {},
   "outputs": [
    {
     "name": "stdout",
     "output_type": "stream",
     "text": [
      "Shape of dataset: (150, 5)\n",
      "   sepal length (cm)  sepal width (cm)  petal length (cm)  petal width (cm)  \\\n",
      "0                5.1               3.5                1.4               0.2   \n",
      "1                4.9               3.0                1.4               0.2   \n",
      "2                4.7               3.2                1.3               0.2   \n",
      "3                4.6               3.1                1.5               0.2   \n",
      "4                5.0               3.6                1.4               0.2   \n",
      "\n",
      "  species  \n",
      "0  setosa  \n",
      "1  setosa  \n",
      "2  setosa  \n",
      "3  setosa  \n",
      "4  setosa  \n"
     ]
    }
   ],
   "source": [
    "# Step 1: Import libraries\n",
    "from sklearn.datasets import load_iris\n",
    "import pandas as pd\n",
    "import numpy as np\n",
    "import matplotlib.pyplot as plt\n",
    "\n",
    "# Step 2: Load the Iris dataset\n",
    "iris = load_iris()\n",
    "\n",
    "# Put features into a pandas DataFrame\n",
    "df = pd.DataFrame(iris.data, columns=iris.feature_names)\n",
    "\n",
    "# Add the species (target) as a readable column \n",
    "df['species'] = pd.Categorical.from_codes(iris.target, iris.target_names)\n",
    "\n",
    "# Quick check of the dataset\n",
    "print(\"Shape of dataset:\", df.shape)  # should be (150, 5)\n",
    "print(df.head())\n"
   ]
  },
  {
   "cell_type": "code",
   "execution_count": 51,
   "id": "dde9d442-7f92-43d9-bc2c-7c8a400879f5",
   "metadata": {},
   "outputs": [
    {
     "name": "stdout",
     "output_type": "stream",
     "text": [
      "First 10 rows with discretized sepal_length:\n",
      "   sepal length (cm) sepal_length_cat\n",
      "0                5.1            short\n",
      "1                4.9            short\n",
      "2                4.7            short\n",
      "3                4.6            short\n",
      "4                5.0            short\n",
      "5                5.4            short\n",
      "6                4.6            short\n",
      "7                5.0            short\n",
      "8                4.4            short\n",
      "9                4.9            short\n",
      "\n",
      "Category counts for sepal_length:\n",
      "sepal_length_cat\n",
      "medium    71\n",
      "short     59\n",
      "long      20\n",
      "Name: count, dtype: int64\n"
     ]
    }
   ],
   "source": [
    "# Task 1: Discretize sepal_length into 3 categories (short, medium, long)\n",
    "\n",
    "# Using pd.cut to split sepal length into 3 equal-width bins\n",
    "df['sepal_length_cat'] = pd.cut(\n",
    "    df['sepal length (cm)'], \n",
    "    bins=3, \n",
    "    labels=['short', 'medium', 'long']\n",
    ")\n",
    "\n",
    "# Show first 10 rows with new category\n",
    "print(\"First 10 rows with discretized sepal_length:\")\n",
    "print(df[['sepal length (cm)', 'sepal_length_cat']].head(10))\n",
    "\n",
    "# Show category counts\n",
    "print(\"\\nCategory counts for sepal_length:\")\n",
    "print(df['sepal_length_cat'].value_counts())\n"
   ]
  },
  {
   "cell_type": "code",
   "execution_count": 53,
   "id": "9fb67638-98d5-469f-a816-aa93793083d8",
   "metadata": {},
   "outputs": [
    {
     "name": "stdout",
     "output_type": "stream",
     "text": [
      "Binarized sepal_width (first 10 rows):\n",
      "   sepal width (cm)  sepal_width_bin\n",
      "0               3.5                1\n",
      "1               3.0                0\n",
      "2               3.2                1\n",
      "3               3.1                1\n",
      "4               3.6                1\n",
      "5               3.9                1\n",
      "6               3.4                1\n",
      "7               3.4                1\n",
      "8               2.9                0\n",
      "9               3.1                1\n"
     ]
    }
   ],
   "source": [
    "# Task 2: Binarize sepal_width at threshold = 3.0\n",
    "# Rule: if sepal_width > 3 → 1, else → 0\n",
    "\n",
    "df['sepal_width_bin'] = (df['sepal width (cm)'] > 3.0).astype(int)\n",
    "\n",
    "# Show first 10 rows with binarized values\n",
    "print(\"Binarized sepal_width (first 10 rows):\")\n",
    "print(df[['sepal width (cm)', 'sepal_width_bin']].head(10))\n"
   ]
  },
  {
   "cell_type": "code",
   "execution_count": 55,
   "id": "4935658a-37c7-4040-bf56-a80fce250af5",
   "metadata": {},
   "outputs": [
    {
     "data": {
      "image/png": "[encoded data removed]",
      "text/plain": [
       "<Figure size 1000x400 with 2 Axes>"
      ]
     },
     "metadata": {},
     "output_type": "display_data"
    }
   ],
   "source": [
    "# Task 3: Apply log transformation to petal_length\n",
    "# Create a new column for log-transformed values\n",
    "df['petal_length_log'] = np.log(df['petal length (cm)'])\n",
    "# Plot histograms before and after log transformation\n",
    "plt.figure(figsize=(10, 4))\n",
    "\n",
    "# Before log transform\n",
    "plt.subplot(1, 2, 1)\n",
    "plt.hist(df['petal length (cm)'], bins=20, color='skyblue', edgecolor='black')\n",
    "plt.title(\"Petal Length (Original)\")\n",
    "plt.xlabel(\"petal length (cm)\")\n",
    "plt.ylabel(\"Frequency\")\n",
    "\n",
    "# After log transform\n",
    "plt.subplot(1, 2, 2)\n",
    "plt.hist(df['petal_length_log'], bins=20, color='salmon', edgecolor='black')\n",
    "plt.title(\"Petal Length (Log Transformed)\")\n",
    "plt.xlabel(\"log(petal length)\")\n",
    "plt.ylabel(\"Frequency\")\n",
    "plt.tight_layout()\n",
    "plt.show()\n"
   ]
  },
  {
   "cell_type": "code",
   "execution_count": 57,
   "id": "308531e6-ae3b-4b92-a43a-812032e21fda",
   "metadata": {},
   "outputs": [
    {
     "name": "stdout",
     "output_type": "stream",
     "text": [
      "Final dataset with new columns added:\n",
      "   sepal length (cm)  sepal width (cm)  petal length (cm)  petal width (cm)  \\\n",
      "0                5.1               3.5                1.4               0.2   \n",
      "1                4.9               3.0                1.4               0.2   \n",
      "2                4.7               3.2                1.3               0.2   \n",
      "3                4.6               3.1                1.5               0.2   \n",
      "4                5.0               3.6                1.4               0.2   \n",
      "\n",
      "  species sepal_length_cat  sepal_width_bin  petal_length_log  \n",
      "0  setosa            short                1          0.336472  \n",
      "1  setosa            short                0          0.336472  \n",
      "2  setosa            short                1          0.262364  \n",
      "3  setosa            short                1          0.405465  \n",
      "4  setosa            short                1          0.336472  \n"
     ]
    }
   ],
   "source": [
    "# Final check: show dataset with new columns\n",
    "print(\"Final dataset with new columns added:\")\n",
    "print(df.head())\n"
   ]
  },
  {
   "cell_type": "code",
   "execution_count": null,
   "id": "fab5217b-96e6-431e-ab74-1a8f676e9ce8",
   "metadata": {},
   "outputs": [],
   "source": []
  },
  {
   "cell_type": "code",
   "execution_count": null,
   "id": "90100de2-e9ab-4896-a0c1-b2e036158a5e",
   "metadata": {},
   "outputs": [],
   "source": []
  }
 ],
 "metadata": {
  "kernelspec": {
   "display_name": "Python [conda env:base] *",
   "language": "python",
   "name": "conda-base-py"
  },
  "language_info": {
   "codemirror_mode": {
    "name": "ipython",
    "version": 3
   },
   "file_extension": ".py",
   "mimetype": "text/x-python",
   "name": "python",
   "nbconvert_exporter": "python",
   "pygments_lexer": "ipython3",
   "version": "3.12.7"
  }
 },
 "nbformat": 4,
 "nbformat_minor": 5
}
